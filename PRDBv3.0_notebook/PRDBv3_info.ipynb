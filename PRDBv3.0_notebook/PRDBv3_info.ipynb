{
 "cells": [
  {
   "cell_type": "markdown",
   "metadata": {},
   "source": [
    "# PRDBv3.0: PDB file and basic information"
   ]
  },
  {
   "cell_type": "code",
   "execution_count": 27,
   "metadata": {},
   "outputs": [],
   "source": [
    "import pandas as pd\n",
    "import numpy as np\n",
    "import matplotlib.pyplot as plt"
   ]
  },
  {
   "cell_type": "code",
   "execution_count": 2,
   "metadata": {},
   "outputs": [],
   "source": [
    "prdbv3_info = pd.read_json('/home/shrikant/my_work/benchmark_work/Revision_1/PRDBv3_dataset/PRDBv3.0/PRDBv3_info.json')"
   ]
  },
  {
   "cell_type": "code",
   "execution_count": 4,
   "metadata": {},
   "outputs": [
    {
     "data": {
      "text/html": [
       "<div>\n",
       "<style scoped>\n",
       "    .dataframe tbody tr th:only-of-type {\n",
       "        vertical-align: middle;\n",
       "    }\n",
       "\n",
       "    .dataframe tbody tr th {\n",
       "        vertical-align: top;\n",
       "    }\n",
       "\n",
       "    .dataframe thead th {\n",
       "        text-align: right;\n",
       "    }\n",
       "</style>\n",
       "<table border=\"1\" class=\"dataframe\">\n",
       "  <thead>\n",
       "    <tr style=\"text-align: right;\">\n",
       "      <th></th>\n",
       "      <th>C_PDB</th>\n",
       "      <th>Structural_class</th>\n",
       "      <th>Flexible_class</th>\n",
       "      <th>Docking_case</th>\n",
       "      <th>Binding_affinity</th>\n",
       "      <th>C_structure_title</th>\n",
       "      <th>C_resolution</th>\n",
       "      <th>C_chain_PR</th>\n",
       "      <th>C_pro_chain</th>\n",
       "      <th>C_pro_seq_length</th>\n",
       "      <th>...</th>\n",
       "      <th>U_pro_seq_length</th>\n",
       "      <th>U_pro_macromolecule_name</th>\n",
       "      <th>U_pro_source_organism</th>\n",
       "      <th>U_RNA_PDB</th>\n",
       "      <th>U_RNA_structure_title</th>\n",
       "      <th>U_RNA_resolution</th>\n",
       "      <th>U_RNA_chain</th>\n",
       "      <th>U_RNA_seq_length</th>\n",
       "      <th>U_RNA_macromolecule_name</th>\n",
       "      <th>U_RNA_source_organism</th>\n",
       "    </tr>\n",
       "  </thead>\n",
       "  <tbody>\n",
       "    <tr>\n",
       "      <th>0</th>\n",
       "      <td>1ASY</td>\n",
       "      <td>A</td>\n",
       "      <td>R</td>\n",
       "      <td>UU</td>\n",
       "      <td>yes</td>\n",
       "      <td>CLASS II AMINOACYL TRANSFER RNA SYNTHETASES: C...</td>\n",
       "      <td>2.9</td>\n",
       "      <td>A:R</td>\n",
       "      <td>A</td>\n",
       "      <td>490</td>\n",
       "      <td>...</td>\n",
       "      <td>487</td>\n",
       "      <td>ASPARTYL-TRNA SYNTHETASE</td>\n",
       "      <td>Saccharomyces cerevisiae</td>\n",
       "      <td>2TRA</td>\n",
       "      <td>RESTRAINED REFINEMENT OF TWO CRYSTALLINE FORMS...</td>\n",
       "      <td>3</td>\n",
       "      <td>A</td>\n",
       "      <td>75</td>\n",
       "      <td>TRNAASP</td>\n",
       "      <td>Saccharomyces cerevisiae</td>\n",
       "    </tr>\n",
       "    <tr>\n",
       "      <th>1</th>\n",
       "      <td>1B23</td>\n",
       "      <td>A</td>\n",
       "      <td>F</td>\n",
       "      <td>UU</td>\n",
       "      <td>no</td>\n",
       "      <td>E. coli cysteinyl-tRNA and T. aquaticus elonga...</td>\n",
       "      <td>2.6</td>\n",
       "      <td>P:R</td>\n",
       "      <td>P</td>\n",
       "      <td>405</td>\n",
       "      <td>...</td>\n",
       "      <td>405</td>\n",
       "      <td>ELONGATION FACTOR TU</td>\n",
       "      <td>Thermus aquaticus</td>\n",
       "      <td>1U0B*</td>\n",
       "      <td>Crystal structure of cysteinyl-tRNA synthetase...</td>\n",
       "      <td>2.3</td>\n",
       "      <td>A</td>\n",
       "      <td>74</td>\n",
       "      <td>cysteinyl tRNA</td>\n",
       "      <td>Escherichia coli</td>\n",
       "    </tr>\n",
       "  </tbody>\n",
       "</table>\n",
       "<p>2 rows × 30 columns</p>\n",
       "</div>"
      ],
      "text/plain": [
       "  C_PDB Structural_class Flexible_class Docking_case Binding_affinity  \\\n",
       "0  1ASY                A              R           UU              yes   \n",
       "1  1B23                A              F           UU               no   \n",
       "\n",
       "                                   C_structure_title  C_resolution C_chain_PR  \\\n",
       "0  CLASS II AMINOACYL TRANSFER RNA SYNTHETASES: C...           2.9        A:R   \n",
       "1  E. coli cysteinyl-tRNA and T. aquaticus elonga...           2.6        P:R   \n",
       "\n",
       "  C_pro_chain C_pro_seq_length  ... U_pro_seq_length  \\\n",
       "0           A              490  ...              487   \n",
       "1           P              405  ...              405   \n",
       "\n",
       "   U_pro_macromolecule_name     U_pro_source_organism U_RNA_PDB  \\\n",
       "0  ASPARTYL-TRNA SYNTHETASE  Saccharomyces cerevisiae      2TRA   \n",
       "1      ELONGATION FACTOR TU         Thermus aquaticus     1U0B*   \n",
       "\n",
       "                               U_RNA_structure_title U_RNA_resolution  \\\n",
       "0  RESTRAINED REFINEMENT OF TWO CRYSTALLINE FORMS...                3   \n",
       "1  Crystal structure of cysteinyl-tRNA synthetase...              2.3   \n",
       "\n",
       "  U_RNA_chain U_RNA_seq_length U_RNA_macromolecule_name  \\\n",
       "0           A               75                  TRNAASP   \n",
       "1           A               74           cysteinyl tRNA   \n",
       "\n",
       "      U_RNA_source_organism  \n",
       "0  Saccharomyces cerevisiae  \n",
       "1          Escherichia coli  \n",
       "\n",
       "[2 rows x 30 columns]"
      ]
     },
     "execution_count": 4,
     "metadata": {},
     "output_type": "execute_result"
    }
   ],
   "source": [
    "prdbv3_info.head(2)"
   ]
  },
  {
   "cell_type": "code",
   "execution_count": 5,
   "metadata": {},
   "outputs": [
    {
     "data": {
      "text/plain": [
       "Index(['C_PDB', 'Structural_class', 'Flexible_class', 'Docking_case',\n",
       "       'Binding_affinity', 'C_structure_title', 'C_resolution', 'C_chain_PR',\n",
       "       'C_pro_chain', 'C_pro_seq_length', 'C_RNA_chain', 'C_RNA_seq_length',\n",
       "       'C_pro_name', 'C_pro_source_organism', 'C_RNA_name',\n",
       "       'C_RNA_source_organism', 'U_pro_PDB', 'U_pro_structure_title',\n",
       "       'U_pro_resolution', 'U_pro_chain', 'U_pro_seq_length',\n",
       "       'U_pro_macromolecule_name', 'U_pro_source_organism', 'U_RNA_PDB',\n",
       "       'U_RNA_structure_title', 'U_RNA_resolution', 'U_RNA_chain',\n",
       "       'U_RNA_seq_length', 'U_RNA_macromolecule_name',\n",
       "       'U_RNA_source_organism'],\n",
       "      dtype='object')"
      ]
     },
     "execution_count": 5,
     "metadata": {},
     "output_type": "execute_result"
    }
   ],
   "source": [
    "prdbv3_info.columns"
   ]
  },
  {
   "cell_type": "code",
   "execution_count": 8,
   "metadata": {},
   "outputs": [
    {
     "name": "stdout",
     "output_type": "stream",
     "text": [
      "<class 'pandas.core.frame.DataFrame'>\n",
      "Index: 197 entries, 0 to 196\n",
      "Data columns (total 30 columns):\n",
      " #   Column                    Non-Null Count  Dtype  \n",
      "---  ------                    --------------  -----  \n",
      " 0   C_PDB                     197 non-null    object \n",
      " 1   Structural_class          197 non-null    object \n",
      " 2   Flexible_class            187 non-null    object \n",
      " 3   Docking_case              197 non-null    object \n",
      " 4   Binding_affinity          197 non-null    object \n",
      " 5   C_structure_title         197 non-null    object \n",
      " 6   C_resolution              197 non-null    float64\n",
      " 7   C_chain_PR                197 non-null    object \n",
      " 8   C_pro_chain               197 non-null    object \n",
      " 9   C_pro_seq_length          197 non-null    object \n",
      " 10  C_RNA_chain               197 non-null    object \n",
      " 11  C_RNA_seq_length          197 non-null    object \n",
      " 12  C_pro_name                197 non-null    object \n",
      " 13  C_pro_source_organism     197 non-null    object \n",
      " 14  C_RNA_name                197 non-null    object \n",
      " 15  C_RNA_source_organism     113 non-null    object \n",
      " 16  U_pro_PDB                 187 non-null    object \n",
      " 17  U_pro_structure_title     187 non-null    object \n",
      " 18  U_pro_resolution          187 non-null    object \n",
      " 19  U_pro_chain               187 non-null    object \n",
      " 20  U_pro_seq_length          187 non-null    object \n",
      " 21  U_pro_macromolecule_name  187 non-null    object \n",
      " 22  U_pro_source_organism     187 non-null    object \n",
      " 23  U_RNA_PDB                 37 non-null     object \n",
      " 24  U_RNA_structure_title     37 non-null     object \n",
      " 25  U_RNA_resolution          37 non-null     object \n",
      " 26  U_RNA_chain               37 non-null     object \n",
      " 27  U_RNA_seq_length          37 non-null     object \n",
      " 28  U_RNA_macromolecule_name  37 non-null     object \n",
      " 29  U_RNA_source_organism     20 non-null     object \n",
      "dtypes: float64(1), object(29)\n",
      "memory usage: 47.7+ KB\n"
     ]
    }
   ],
   "source": [
    "prdbv3_info.info()"
   ]
  },
  {
   "cell_type": "code",
   "execution_count": 36,
   "metadata": {},
   "outputs": [
    {
     "data": {
      "image/png": "[encoded data removed]",
      "text/plain": [
       "<Figure size 1000x600 with 1 Axes>"
      ]
     },
     "metadata": {},
     "output_type": "display_data"
    }
   ],
   "source": [
    "# Plotting the resolution distribution (Histogram)\n",
    "plt.figure(figsize=(10, 6))\n",
    "plt.hist(prdbv3_info['C_resolution'], bins=20, edgecolor='black', color='skyblue', alpha=0.7)\n",
    "plt.title('Resolution Distribution', fontsize=14)\n",
    "plt.xlabel('Resolution Values', fontsize=12)\n",
    "plt.ylabel('Frequency', fontsize=12)\n",
    "plt.grid(True)\n",
    "plt.show()"
   ]
  },
  {
   "cell_type": "code",
   "execution_count": 18,
   "metadata": {},
   "outputs": [
    {
     "name": "stdout",
     "output_type": "stream",
     "text": [
      "PDB source organisms details:\n",
      "\n",
      "Number of unique organisms in PRDBv3 dataset: 87\n",
      "\n",
      "Organisms info:\n",
      "C_pro_source_organism\n",
      "Homo sapiens                  47\n",
      "Escherichia coli              16\n",
      "Saccharomyces cerevisiae       7\n",
      "Thermus thermophilus           7\n",
      "Mus musculus                   7\n",
      "                              ..\n",
      "Poliovirus 1                   1\n",
      "Reston ebolavirus - Reston     1\n",
      "Norwalk virus                  1\n",
      "Thermus thermophilus HB8       1\n",
      "Aeropyrum pernix               1\n",
      "Name: count, Length: 87, dtype: int64\n"
     ]
    }
   ],
   "source": [
    "print(\"PDB source organisms details:\\n\")\n",
    "print(f\"Number of unique organisms in PRDBv3 dataset: {prdbv3_info['C_pro_source_organism'].nunique()}\\n\")\n",
    "print(f\"Organisms info:\\n{prdbv3_info['C_pro_source_organism'].value_counts()}\")"
   ]
  },
  {
   "cell_type": "code",
   "execution_count": 19,
   "metadata": {},
   "outputs": [
    {
     "name": "stdout",
     "output_type": "stream",
     "text": [
      "Number of unique domains in PRDBv3: 197\n",
      "\n",
      "Number of unique PDB ID in each structural class:\n",
      "Structural_class\n",
      "D    86\n",
      "C    62\n",
      "A    40\n",
      "B     9\n",
      "Name: count, dtype: int64\n",
      "\n",
      "Number of unique PDB ID in each flexible class:\n",
      "Flexible_class\n",
      "R    117\n",
      "S     41\n",
      "F     29\n",
      "Name: count, dtype: int64\n",
      "\n",
      "Number of unique PDB ID in each docking case:\n",
      "Docking_case\n",
      "UB    160\n",
      "UU     27\n",
      "BU     10\n",
      "Name: count, dtype: int64\n",
      "\n"
     ]
    }
   ],
   "source": [
    "# Total number of unique domains in PRDBv3.0\n",
    "print(f\"Number of unique domains in PRDBv3: {prdbv3_info['C_PDB'].nunique()}\\n\")\n",
    "# Number of unique PDB ID in each structural class\n",
    "print(f\"Number of unique PDB ID in each structural class:\\n{prdbv3_info['Structural_class'].value_counts()}\\n\")\n",
    "# Number of unique PDB ID in each flexible class\n",
    "print(f\"Number of unique PDB ID in each flexible class:\\n{prdbv3_info['Flexible_class'].value_counts()}\\n\")\n",
    "# Number of unique PDB ID in each docking case\n",
    "print(f\"Number of unique PDB ID in each docking case:\\n{prdbv3_info['Docking_case'].value_counts()}\\n\")"
   ]
  }
 ],
 "metadata": {
  "kernelspec": {
   "display_name": "Python 3",
   "language": "python",
   "name": "python3"
  },
  "language_info": {
   "codemirror_mode": {
    "name": "ipython",
    "version": 3
   },
   "file_extension": ".py",
   "mimetype": "text/x-python",
   "name": "python",
   "nbconvert_exporter": "python",
   "pygments_lexer": "ipython3",
   "version": "3.10.12"
  }
 },
 "nbformat": 4,
 "nbformat_minor": 2
}
